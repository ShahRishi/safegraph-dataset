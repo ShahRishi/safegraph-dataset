{
 "cells": [
  {
   "cell_type": "markdown",
   "metadata": {},
   "source": [
    "## Import Libraries"
   ]
  },
  {
   "cell_type": "code",
   "execution_count": 1,
   "metadata": {},
   "outputs": [],
   "source": [
    "import pandas as pd    \n",
    "import datetime"
   ]
  },
  {
   "cell_type": "markdown",
   "metadata": {},
   "source": [
    "## Import Data\n",
    "Imported data, spliced out hours from date data."
   ]
  },
  {
   "cell_type": "code",
   "execution_count": 2,
   "metadata": {},
   "outputs": [],
   "source": [
    "# read in csv file as dataframe\n",
    "df = pd.read_csv('data/safegraph-dataset.csv')\n",
    "\n",
    "# splice dates, hours not needed \n",
    "df['date_range_start'] = df['date_range_start'].str[:10]\n",
    "df['date_range_end'] = df['date_range_end'].str[:10]"
   ]
  },
  {
   "cell_type": "markdown",
   "metadata": {},
   "source": [
    "## Iterate Dataframe\n",
    "Iterate through entries of the dataframe, preparing lists for each of the fields present in the new dataset. Iteration was repeated multiple times since number of fields is constant"
   ]
  },
  {
   "cell_type": "code",
   "execution_count": 3,
   "metadata": {},
   "outputs": [],
   "source": [
    "# list of placekeys\n",
    "placekeyList=[]\n",
    "for item in df['placekey']:\n",
    "    for i in range(7):                   # loop 7 times for 7 days in a week\n",
    "        placekeyList += [item]\n",
    "        \n",
    "# list of location names\n",
    "locNameList = []\n",
    "for item in df['location_name']:   \n",
    "    for i in range(7):                   # loop 7 times for 7 days in a week\n",
    "        locNameList += [item] \n",
    "\n",
    "# list of street addresses\n",
    "streetAddList = []\n",
    "for item in df['street_address']:   \n",
    "    for i in range(7):                   # loop 7 times for 7 days in a week\n",
    "        streetAddList += [item] \n",
    "        \n",
    "# list of cities\n",
    "cityList = []\n",
    "for item in df['city']:   \n",
    "    for i in range(7):                   # loop 7 times for 7 days in a week\n",
    "        cityList += [item] \n",
    "        \n",
    "# list of regions\n",
    "regionList = []\n",
    "for item in df['region']:   \n",
    "    for i in range(7):                   # loop 7 times for 7 days in a week\n",
    "        regionList += [item] \n",
    "    \n",
    "# list of postal codes\n",
    "postalList = []\n",
    "for item in df['postal_code']:   \n",
    "    for i in range(7):                   # loop 7 times for 7 days in a week\n",
    "        postalList += [item] \n",
    "        \n",
    "# poi_cbg - census group where the poi is located; list of census groups\n",
    "cbgList = []                             \n",
    "for item in df['poi_cbg']:   \n",
    "    for i in range(7):                   # loop 7 times for 7 days in a week\n",
    "        cbgList += [item]  \n",
    "        \n",
    "# list of all dates\n",
    "dateList = []\n",
    "for item in df['date_range_start']:\n",
    "    start_date = datetime.date(int(str(item)[:4]), int(str(item)[5:7]), int(str(item)[8:]))\n",
    "    delta = datetime.timedelta(days=1)\n",
    "    for i in range(7):                   # loop 7 times for 7 days in a week\n",
    "        dateList += [str(start_date)]    # append current date to dateList\n",
    "        start_date += delta              # increment current date, 1 per iteration\n",
    "\n",
    "# list of visits for each date        \n",
    "visitList = []\n",
    "for item in df['visits_by_day']:\n",
    "    item = str(item[1:-1])\n",
    "    tmpVisitList = list(item.split(\",\"))\n",
    "    for subItem in tmpVisitList:\n",
    "        visitList += [int(subItem)] "
   ]
  },
  {
   "cell_type": "markdown",
   "metadata": {},
   "source": [
    "## Prepare new dataframe, export\n",
    "Prepare dataframe from dictionary, then export dataframe to csv output. "
   ]
  },
  {
   "cell_type": "code",
   "execution_count": 4,
   "metadata": {},
   "outputs": [],
   "source": [
    "# prepare dictionary for new dataset\n",
    "df2Data = {'placekey':placekeyList, 'location_name':locNameList, 'street_address': streetAddList,  \n",
    "           'city':cityList, 'region':regionList, 'postal_code':postalList, 'poi_cbg':cbgList,\n",
    "           'date':dateList, 'visits':visitList}\n",
    "\n",
    "# create dataframe from dictionary, display\n",
    "df2 = pd.DataFrame(df2Data)\n",
    "df2.head()\n",
    "\n",
    "# export dataframe as csv file\n",
    "df2.to_csv('./data/safegraph-dataset-out.csv', index=False)"
   ]
  }
 ],
 "metadata": {
  "kernelspec": {
   "display_name": "Python 3",
   "language": "python",
   "name": "python3"
  },
  "language_info": {
   "codemirror_mode": {
    "name": "ipython",
    "version": 3
   },
   "file_extension": ".py",
   "mimetype": "text/x-python",
   "name": "python",
   "nbconvert_exporter": "python",
   "pygments_lexer": "ipython3",
   "version": "3.8.5"
  },
  "toc": {
   "base_numbering": 1,
   "nav_menu": {},
   "number_sections": false,
   "sideBar": false,
   "skip_h1_title": false,
   "title_cell": "Table of Contents",
   "title_sidebar": "Contents",
   "toc_cell": false,
   "toc_position": {},
   "toc_section_display": false,
   "toc_window_display": false
  }
 },
 "nbformat": 4,
 "nbformat_minor": 4
}
