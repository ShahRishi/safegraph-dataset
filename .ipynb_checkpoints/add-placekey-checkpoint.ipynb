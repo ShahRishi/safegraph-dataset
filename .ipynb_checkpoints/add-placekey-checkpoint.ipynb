{
 "cells": [
  {
   "cell_type": "markdown",
   "id": "ea666ed1",
   "metadata": {},
   "source": [
    "## Import Libraries"
   ]
  },
  {
   "cell_type": "code",
   "execution_count": 1,
   "id": "600823b1",
   "metadata": {},
   "outputs": [],
   "source": [
    "import pandas as pd"
   ]
  },
  {
   "cell_type": "markdown",
   "id": "6a150226",
   "metadata": {},
   "source": [
    "## Import Data"
   ]
  },
  {
   "cell_type": "code",
   "execution_count": 51,
   "id": "40b5635e",
   "metadata": {},
   "outputs": [],
   "source": [
    "df_main = pd.read_csv('data/rishi_stores.csv')\n",
    "df_reference = pd.read_csv('data/safegraph-dataset-out.csv')\n",
    "df_reference_cond = pd.read_csv('data/safegraph-dataset.csv')"
   ]
  },
  {
   "cell_type": "markdown",
   "id": "2d253637",
   "metadata": {},
   "source": [
    "Logic: iterate through data, storing unique zip codes in a hashtable"
   ]
  },
  {
   "cell_type": "code",
   "execution_count": 39,
   "id": "cf5d545b",
   "metadata": {
    "scrolled": true
   },
   "outputs": [],
   "source": [
    "def checkMain():\n",
    "    main_dict = {}\n",
    "    black_list = {}\n",
    "    main_placekeys = {}\n",
    "    for i in range(len(df_reference)):\n",
    "        new_key = df_reference.loc[i, \"postal_code\"]\n",
    "        new_value = df_reference.loc[i, \"street_address\"]\n",
    "        new_placekey = df_reference.loc[i, \"placekey\"]\n",
    "        if new_key not in main_dict.keys() and new_key not in black_list.keys():\n",
    "            main_dict[new_key] = new_value\n",
    "            main_placekeys[new_key] = new_placekey\n",
    "        elif new_key not in black_list.keys():\n",
    "            if main_dict[new_key] != new_value:\n",
    "                main_dict.pop(new_key)\n",
    "                black_list[new_key] = ''\n",
    "    return main_dict, black_list, main_placekeys\n",
    "main_dict, main_black_list, main_placekeys = checkMain()"
   ]
  },
  {
   "cell_type": "code",
   "execution_count": 49,
   "id": "af39efef",
   "metadata": {
    "scrolled": true
   },
   "outputs": [
    {
     "name": "stdout",
     "output_type": "stream",
     "text": [
      "Number of stores with unique zip codes: 473\n"
     ]
    }
   ],
   "source": [
    "def uniqueZipPlacekeys():\n",
    "    count = 0\n",
    "    for i in range(len(df_main)):\n",
    "        zip_code = df_main.loc[i, \"zip_code\"]\n",
    "        if zip_code in main_dict:\n",
    "            df_main.loc[i, \"placekey\"] = main_placekeys[zip_code]\n",
    "            count += 1\n",
    "    return count\n",
    "print('Number of stores with unique zip codes:', uniqueZipPlacekeys())"
   ]
  },
  {
   "cell_type": "code",
   "execution_count": 52,
   "id": "aeeaabad",
   "metadata": {
    "scrolled": false
   },
   "outputs": [
    {
     "ename": "KeyError",
     "evalue": "8533",
     "output_type": "error",
     "traceback": [
      "\u001b[0;31m---------------------------------------------------------------------------\u001b[0m",
      "\u001b[0;31mKeyError\u001b[0m                                  Traceback (most recent call last)",
      "\u001b[0;32m/tmp/ipykernel_2503/1043978369.py\u001b[0m in \u001b[0;36m<module>\u001b[0;34m\u001b[0m\n\u001b[1;32m      7\u001b[0m             \u001b[0mzip_dict\u001b[0m\u001b[0;34m[\u001b[0m\u001b[0mnew_key\u001b[0m\u001b[0;34m]\u001b[0m \u001b[0;34m+=\u001b[0m \u001b[0;34m[\u001b[0m\u001b[0mnew_value\u001b[0m\u001b[0;34m]\u001b[0m\u001b[0;34m\u001b[0m\u001b[0;34m\u001b[0m\u001b[0m\n\u001b[1;32m      8\u001b[0m     \u001b[0;32mreturn\u001b[0m \u001b[0mzip_dict\u001b[0m\u001b[0;34m\u001b[0m\u001b[0;34m\u001b[0m\u001b[0m\n\u001b[0;32m----> 9\u001b[0;31m \u001b[0mzip_dict\u001b[0m \u001b[0;34m=\u001b[0m \u001b[0mnonuniqueZipPlacekeys\u001b[0m\u001b[0;34m(\u001b[0m\u001b[0;34m)\u001b[0m\u001b[0;34m\u001b[0m\u001b[0;34m\u001b[0m\u001b[0m\n\u001b[0m\u001b[1;32m     10\u001b[0m \u001b[0mprint\u001b[0m\u001b[0;34m(\u001b[0m\u001b[0mzip_dict\u001b[0m\u001b[0;34m)\u001b[0m\u001b[0;34m\u001b[0m\u001b[0;34m\u001b[0m\u001b[0m\n",
      "\u001b[0;32m/tmp/ipykernel_2503/1043978369.py\u001b[0m in \u001b[0;36mnonuniqueZipPlacekeys\u001b[0;34m()\u001b[0m\n\u001b[1;32m      4\u001b[0m         \u001b[0mnew_key\u001b[0m \u001b[0;34m=\u001b[0m \u001b[0mdf_reference_cond\u001b[0m\u001b[0;34m.\u001b[0m\u001b[0mloc\u001b[0m\u001b[0;34m[\u001b[0m\u001b[0mi\u001b[0m\u001b[0;34m,\u001b[0m \u001b[0;34m\"postal_code\"\u001b[0m\u001b[0;34m]\u001b[0m\u001b[0;34m\u001b[0m\u001b[0;34m\u001b[0m\u001b[0m\n\u001b[1;32m      5\u001b[0m         \u001b[0mnew_value\u001b[0m \u001b[0;34m=\u001b[0m \u001b[0mdf_reference_cond\u001b[0m\u001b[0;34m.\u001b[0m\u001b[0mloc\u001b[0m\u001b[0;34m[\u001b[0m\u001b[0mi\u001b[0m\u001b[0;34m,\u001b[0m \u001b[0;34m\"street_address\"\u001b[0m\u001b[0;34m]\u001b[0m\u001b[0;34m\u001b[0m\u001b[0;34m\u001b[0m\u001b[0m\n\u001b[0;32m----> 6\u001b[0;31m         \u001b[0;32mif\u001b[0m \u001b[0mnew_value\u001b[0m \u001b[0;32mnot\u001b[0m \u001b[0;32min\u001b[0m \u001b[0mzip_dict\u001b[0m\u001b[0;34m[\u001b[0m\u001b[0mnew_key\u001b[0m\u001b[0;34m]\u001b[0m\u001b[0;34m:\u001b[0m\u001b[0;34m\u001b[0m\u001b[0;34m\u001b[0m\u001b[0m\n\u001b[0m\u001b[1;32m      7\u001b[0m             \u001b[0mzip_dict\u001b[0m\u001b[0;34m[\u001b[0m\u001b[0mnew_key\u001b[0m\u001b[0;34m]\u001b[0m \u001b[0;34m+=\u001b[0m \u001b[0;34m[\u001b[0m\u001b[0mnew_value\u001b[0m\u001b[0;34m]\u001b[0m\u001b[0;34m\u001b[0m\u001b[0;34m\u001b[0m\u001b[0m\n\u001b[1;32m      8\u001b[0m     \u001b[0;32mreturn\u001b[0m \u001b[0mzip_dict\u001b[0m\u001b[0;34m\u001b[0m\u001b[0;34m\u001b[0m\u001b[0m\n",
      "\u001b[0;31mKeyError\u001b[0m: 8533"
     ]
    }
   ],
   "source": [
    "def nonuniqueZipPlacekeys():\n",
    "    zip_dict = {}\n",
    "    for i in range(len(df_reference_cond)):\n",
    "        new_key = df_reference_cond.loc[i, \"postal_code\"]\n",
    "        new_value = df_reference_cond.loc[i, \"street_address\"]\n",
    "        if new_value not in zip_dict[new_key]:\n",
    "            zip_dict[new_key] += [new_value]\n",
    "    return zip_dict\n",
    "zip_dict = nonuniqueZipPlacekeys()\n",
    "print(zip_dict)"
   ]
  },
  {
   "cell_type": "code",
   "execution_count": 43,
   "id": "cfd76123",
   "metadata": {
    "scrolled": true
   },
   "outputs": [
    {
     "data": {
      "text/html": [
       "<div>\n",
       "<style scoped>\n",
       "    .dataframe tbody tr th:only-of-type {\n",
       "        vertical-align: middle;\n",
       "    }\n",
       "\n",
       "    .dataframe tbody tr th {\n",
       "        vertical-align: top;\n",
       "    }\n",
       "\n",
       "    .dataframe thead th {\n",
       "        text-align: right;\n",
       "    }\n",
       "</style>\n",
       "<table border=\"1\" class=\"dataframe\">\n",
       "  <thead>\n",
       "    <tr style=\"text-align: right;\">\n",
       "      <th></th>\n",
       "      <th>store_skey</th>\n",
       "      <th>city</th>\n",
       "      <th>state_code</th>\n",
       "      <th>zip_code</th>\n",
       "      <th>address</th>\n",
       "      <th>placekey</th>\n",
       "    </tr>\n",
       "  </thead>\n",
       "  <tbody>\n",
       "    <tr>\n",
       "      <th>0</th>\n",
       "      <td>1061</td>\n",
       "      <td>Lecanto</td>\n",
       "      <td>FL</td>\n",
       "      <td>34461</td>\n",
       "      <td>2932 W. Norvell Bryant Highway</td>\n",
       "      <td>222-222@8gq-9ck-g6k</td>\n",
       "    </tr>\n",
       "    <tr>\n",
       "      <th>1</th>\n",
       "      <td>215</td>\n",
       "      <td>Norfolk</td>\n",
       "      <td>VA</td>\n",
       "      <td>23502</td>\n",
       "      <td>1146 N Military Hwy.</td>\n",
       "      <td>NaN</td>\n",
       "    </tr>\n",
       "    <tr>\n",
       "      <th>2</th>\n",
       "      <td>498</td>\n",
       "      <td>Philadelphia</td>\n",
       "      <td>PA</td>\n",
       "      <td>19137</td>\n",
       "      <td>3901 Aramingo Ave</td>\n",
       "      <td>NaN</td>\n",
       "    </tr>\n",
       "    <tr>\n",
       "      <th>3</th>\n",
       "      <td>804</td>\n",
       "      <td>Kissimmee</td>\n",
       "      <td>FL</td>\n",
       "      <td>34747</td>\n",
       "      <td>7940 West Irlo Bronson Hwy</td>\n",
       "      <td>zzw-222@8fy-fm6-cqz</td>\n",
       "    </tr>\n",
       "    <tr>\n",
       "      <th>4</th>\n",
       "      <td>704</td>\n",
       "      <td>King of Prussia</td>\n",
       "      <td>PA</td>\n",
       "      <td>19406</td>\n",
       "      <td>145 W. DeKalb Pike</td>\n",
       "      <td>NaN</td>\n",
       "    </tr>\n",
       "  </tbody>\n",
       "</table>\n",
       "</div>"
      ],
      "text/plain": [
       "   store_skey             city state_code  zip_code  \\\n",
       "0        1061          Lecanto         FL     34461   \n",
       "1         215          Norfolk         VA     23502   \n",
       "2         498     Philadelphia         PA     19137   \n",
       "3         804        Kissimmee         FL     34747   \n",
       "4         704  King of Prussia         PA     19406   \n",
       "\n",
       "                           address             placekey  \n",
       "0   2932 W. Norvell Bryant Highway  222-222@8gq-9ck-g6k  \n",
       "1             1146 N Military Hwy.                  NaN  \n",
       "2                3901 Aramingo Ave                  NaN  \n",
       "3       7940 West Irlo Bronson Hwy  zzw-222@8fy-fm6-cqz  \n",
       "4               145 W. DeKalb Pike                  NaN  "
      ]
     },
     "execution_count": 43,
     "metadata": {},
     "output_type": "execute_result"
    }
   ],
   "source": [
    "df_main.head()"
   ]
  },
  {
   "cell_type": "markdown",
   "id": "90e7de72",
   "metadata": {},
   "source": []
  },
  {
   "cell_type": "code",
   "execution_count": null,
   "id": "eacb629d",
   "metadata": {},
   "outputs": [],
   "source": []
  },
  {
   "cell_type": "code",
   "execution_count": null,
   "id": "375ae3fe",
   "metadata": {},
   "outputs": [],
   "source": []
  },
  {
   "cell_type": "code",
   "execution_count": null,
   "id": "ed10cdf0",
   "metadata": {},
   "outputs": [],
   "source": []
  },
  {
   "cell_type": "code",
   "execution_count": null,
   "id": "9ac4b9af",
   "metadata": {
    "scrolled": false
   },
   "outputs": [],
   "source": []
  },
  {
   "cell_type": "code",
   "execution_count": null,
   "id": "c0cbcf0a",
   "metadata": {},
   "outputs": [],
   "source": []
  }
 ],
 "metadata": {
  "kernelspec": {
   "display_name": "Python 3 (ipykernel)",
   "language": "python",
   "name": "python3"
  },
  "language_info": {
   "codemirror_mode": {
    "name": "ipython",
    "version": 3
   },
   "file_extension": ".py",
   "mimetype": "text/x-python",
   "name": "python",
   "nbconvert_exporter": "python",
   "pygments_lexer": "ipython3",
   "version": "3.9.7"
  }
 },
 "nbformat": 4,
 "nbformat_minor": 5
}
