{
 "cells": [
  {
   "cell_type": "markdown",
   "id": "ea666ed1",
   "metadata": {},
   "source": [
    "## Import Libraries"
   ]
  },
  {
   "cell_type": "code",
   "execution_count": 1,
   "id": "600823b1",
   "metadata": {},
   "outputs": [],
   "source": [
    "import pandas as pd\n",
    "import requests\n",
    "from tqdm import tqdm"
   ]
  },
  {
   "cell_type": "markdown",
   "id": "6a150226",
   "metadata": {},
   "source": [
    "## Import Data"
   ]
  },
  {
   "cell_type": "code",
   "execution_count": 2,
   "id": "40b5635e",
   "metadata": {},
   "outputs": [],
   "source": [
    "df_main = pd.read_csv('data/rishi-stores.csv')              # stores dataset\n",
    "df_reference = pd.read_csv('data/safegraph-raw.csv')        # reference with placekeys (condensed) "
   ]
  },
  {
   "cell_type": "markdown",
   "id": "e33a05b2",
   "metadata": {},
   "source": [
    "# Process Data\n",
    "Using geocoding"
   ]
  },
  {
   "cell_type": "markdown",
   "id": "cd9dab64",
   "metadata": {},
   "source": [
    "### Step 1\n",
    "Iterate through the addresses in the reference, making: <br>\n",
    "   > 1. an extra column for geocodes <br>\n",
    "   > 2. a hashtable such that hash[geocode] = placekey"
   ]
  },
  {
   "cell_type": "code",
   "execution_count": null,
   "id": "1e50e253",
   "metadata": {},
   "outputs": [],
   "source": [
    "geocode_dict = {}                                 # create empty dictionary to store geocode:placekey\n",
    "API_KEY = '--INSERT API KEY HERE--'               # update API key when purchased \n",
    "\n",
    "for i in tqdm(range(len(df_reference))):\n",
    "    address = str(df_reference.loc[i, \"street_address\"]) + ', ' + str(df_reference.loc[i, \"region\"])\n",
    "\n",
    "    params = {\n",
    "        'key': API_KEY,\n",
    "        'address': address\n",
    "    }\n",
    "    \n",
    "    base_url = 'https://maps.googleapis.com/maps/api/geocode/json?'\n",
    "    response = requests.get(base_url, params=params).json()\n",
    "    \n",
    "    if response['status'] == 'OK':\n",
    "        geometry = response['results'][0]['geometry']\n",
    "        lat = geometry['location']['lat'] \n",
    "        lon = geometry['location']['lng'] \n",
    "        geocode_address = '(' + str(lat) + ',' + str(lon) + ')'\n",
    "        df_reference.loc[i, \"geocode\"] = geocode_coords\n",
    "        geocode_dict[geocode_coords] = df_reference.loc[i, \"placekey\"]\n",
    "    else:\n",
    "        print('Errors with', address)"
   ]
  },
  {
   "cell_type": "code",
   "execution_count": null,
   "id": "191f4d18",
   "metadata": {},
   "outputs": [],
   "source": [
    "df_reference.to_csv('./safegraph-raw-geocode', index=False)"
   ]
  },
  {
   "cell_type": "markdown",
   "id": "9904cc9c",
   "metadata": {},
   "source": [
    "### Step 2\n",
    "Iterate through the addresses in the stores dataset: <br>\n",
    "   > 1. find the geocode for each address in stores <br>\n",
    "   > 2. key into geocode_dict to find corresponding placekey\n",
    "   > 3. build placekey column in stores"
   ]
  },
  {
   "cell_type": "code",
   "execution_count": null,
   "id": "d40ad843",
   "metadata": {},
   "outputs": [],
   "source": [
    "for i in range(len(df_main)):\n",
    "    address = str(df_main.loc[i, \"address\"]) + ', ' + str(df_main.loc[i, \"state_code\"])\n",
    "    \n",
    "    params = {\n",
    "        'key': API_KEY,\n",
    "        'address': address\n",
    "    }\n",
    "    \n",
    "    base_url = 'https://maps.googleapis.com/maps/api/geocode/json?'\n",
    "    response = requests.get(base_url, params=params).json()\n",
    "    \n",
    "    if response['status'] == 'OK':\n",
    "        geometry = response['results'][0]['geometry']\n",
    "        lat = geometry['location']['lat'] \n",
    "        lon = geometry['location']['lng'] \n",
    "        geocode_address = '(' + str(lat) + ',' + str(lon) + ')'\n",
    "        df_main.loc[i, \"placekey\"] = geocode_dict[geocode_address]\n",
    "    else:\n",
    "        print('Errors with', address)"
   ]
  },
  {
   "cell_type": "markdown",
   "id": "60454015",
   "metadata": {},
   "source": [
    "### Step 3\n",
    "Export new dataset as csv file"
   ]
  },
  {
   "cell_type": "code",
   "execution_count": null,
   "id": "eacb629d",
   "metadata": {},
   "outputs": [],
   "source": [
    "df_main.to_csv('./data/rishi-stores-placekeys.csv', index=False)"
   ]
  }
 ],
 "metadata": {
  "kernelspec": {
   "display_name": "Python 3 (ipykernel)",
   "language": "python",
   "name": "python3"
  },
  "language_info": {
   "codemirror_mode": {
    "name": "ipython",
    "version": 3
   },
   "file_extension": ".py",
   "mimetype": "text/x-python",
   "name": "python",
   "nbconvert_exporter": "python",
   "pygments_lexer": "ipython3",
   "version": "3.10.4"
  }
 },
 "nbformat": 4,
 "nbformat_minor": 5
}
